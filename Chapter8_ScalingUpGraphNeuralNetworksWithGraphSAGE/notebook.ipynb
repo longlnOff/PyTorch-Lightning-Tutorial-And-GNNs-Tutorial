{
 "cells": [
  {
   "cell_type": "code",
   "execution_count": 1,
   "metadata": {},
   "outputs": [
    {
     "name": "stderr",
     "output_type": "stream",
     "text": [
      "2024-02-27 16:04:18.744088: I tensorflow/core/platform/cpu_feature_guard.cc:182] This TensorFlow binary is optimized to use available CPU instructions in performance-critical operations.\n",
      "To enable the following instructions: AVX2 FMA, in other operations, rebuild TensorFlow with the appropriate compiler flags.\n",
      "2024-02-27 16:04:19.754486: W tensorflow/compiler/tf2tensorrt/utils/py_utils.cc:38] TF-TRT Warning: Could not find TensorRT\n"
     ]
    }
   ],
   "source": [
    "from Source.LibrariesModule import *"
   ]
  },
  {
   "cell_type": "code",
   "execution_count": 2,
   "metadata": {},
   "outputs": [],
   "source": [
    "dataset = Planetoid(root='./DataFolder/', name='Pubmed')"
   ]
  },
  {
   "cell_type": "code",
   "execution_count": 3,
   "metadata": {},
   "outputs": [
    {
     "name": "stdout",
     "output_type": "stream",
     "text": [
      "--------------------\n",
      "Here are data information:\n",
      "Dataset: Pubmed\n",
      "Number of graphs: 1\n",
      "Number of nodes: 19717\n",
      "Number of features: 500\n",
      "Number of classes: 3\n",
      "Graph\n",
      "--------------------\n",
      "Training nodes: 60\n",
      "Validation nodes: 500\n",
      "Test nodes: 1000\n",
      "Edge are directed: False\n",
      "Graph has isolated nodes: False\n",
      "Graph has loops: False\n"
     ]
    }
   ],
   "source": [
    "print(f'{20*\"-\"}')\n",
    "print(f'Here are data information:')\n",
    "print(f'Dataset: {dataset.name}')\n",
    "print(f'Number of graphs: {len(dataset)}')\n",
    "print(f'Number of nodes: {dataset._data.num_nodes}')\n",
    "print(f'Number of features: {dataset.num_features}')\n",
    "print(f'Number of classes: {dataset.num_classes}')\n",
    "\n",
    "print(f'Graph')\n",
    "print(f'{20*\"-\"}')\n",
    "print(f'Training nodes: {dataset[0].train_mask.sum().item()}')\n",
    "print(f'Validation nodes: {dataset[0].val_mask.sum().item()}')\n",
    "print(f'Test nodes: {dataset[0].test_mask.sum().item()}')\n",
    "print(f'Edge are directed: {dataset[0].is_directed()}')\n",
    "print(f'Graph has isolated nodes: {dataset[0].has_isolated_nodes()}')\n",
    "print(f'Graph has loops: {dataset[0].has_self_loops()}')"
   ]
  },
  {
   "cell_type": "code",
   "execution_count": null,
   "metadata": {},
   "outputs": [],
   "source": []
  }
 ],
 "metadata": {
  "kernelspec": {
   "display_name": "Python 3",
   "language": "python",
   "name": "python3"
  },
  "language_info": {
   "codemirror_mode": {
    "name": "ipython",
    "version": 3
   },
   "file_extension": ".py",
   "mimetype": "text/x-python",
   "name": "python",
   "nbconvert_exporter": "python",
   "pygments_lexer": "ipython3",
   "version": "3.8.10"
  },
  "orig_nbformat": 4
 },
 "nbformat": 4,
 "nbformat_minor": 2
}
