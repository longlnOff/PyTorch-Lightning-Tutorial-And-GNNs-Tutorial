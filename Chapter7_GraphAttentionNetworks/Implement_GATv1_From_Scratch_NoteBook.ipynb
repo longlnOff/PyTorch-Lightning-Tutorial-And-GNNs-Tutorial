{
 "cells": [
  {
   "cell_type": "code",
   "execution_count": 1,
   "metadata": {},
   "outputs": [],
   "source": [
    "import numpy as np\n",
    "np.random.seed(0)"
   ]
  },
  {
   "cell_type": "code",
   "execution_count": 2,
   "metadata": {},
   "outputs": [
    {
     "data": {
      "text/plain": [
       "array([[1, 1, 1, 1],\n",
       "       [1, 1, 0, 0],\n",
       "       [1, 0, 1, 1],\n",
       "       [1, 0, 1, 1]])"
      ]
     },
     "execution_count": 2,
     "metadata": {},
     "output_type": "execute_result"
    }
   ],
   "source": [
    "# ADJACENCY MATRIX\n",
    "A = np.array([\n",
    "    [1,1,1,1],\n",
    "    [1,1,0,0],\n",
    "    [1,0,1,1],\n",
    "    [1,0,1,1]\n",
    "])\n",
    "A"
   ]
  },
  {
   "cell_type": "code",
   "execution_count": 3,
   "metadata": {},
   "outputs": [
    {
     "data": {
      "text/plain": [
       "array([[ 0.09762701,  0.43037873,  0.20552675,  0.08976637],\n",
       "       [-0.1526904 ,  0.29178823, -0.12482558,  0.783546  ],\n",
       "       [ 0.92732552, -0.23311696,  0.58345008,  0.05778984],\n",
       "       [ 0.13608912,  0.85119328, -0.85792788, -0.8257414 ]])"
      ]
     },
     "execution_count": 3,
     "metadata": {},
     "output_type": "execute_result"
    }
   ],
   "source": [
    "# Node features, each row is a node\n",
    "X = np.random.uniform(-1, 1, (4,4))\n",
    "X"
   ]
  },
  {
   "cell_type": "code",
   "execution_count": 4,
   "metadata": {},
   "outputs": [],
   "source": [
    "# Weight matrix\n",
    "W = np.random.uniform(-1, 1, (2,4))"
   ]
  },
  {
   "cell_type": "code",
   "execution_count": 5,
   "metadata": {},
   "outputs": [],
   "source": [
    "# Attention weight matrix\n",
    "W_att = np.random.uniform(-1, 1, (1,2*2))"
   ]
  },
  {
   "cell_type": "code",
   "execution_count": 6,
   "metadata": {},
   "outputs": [],
   "source": [
    "connection = np.where(A > 0)"
   ]
  },
  {
   "cell_type": "code",
   "execution_count": 9,
   "metadata": {},
   "outputs": [],
   "source": [
    "a = W_att @ np.concatenate([(X @ W.T)[connection[0]], (X @ W.T)[connection[1]]], axis=1).T"
   ]
  },
  {
   "cell_type": "code",
   "execution_count": 11,
   "metadata": {},
   "outputs": [
    {
     "data": {
      "text/plain": [
       "(1, 12)"
      ]
     },
     "execution_count": 11,
     "metadata": {},
     "output_type": "execute_result"
    }
   ],
   "source": [
    "def leaky_relu(x, alpha=0.2):\n",
    "    return np.maximum(x, alpha*x)\n",
    "\n",
    "e = leaky_relu(a)\n",
    "e.shape"
   ]
  },
  {
   "cell_type": "code",
   "execution_count": 12,
   "metadata": {},
   "outputs": [
    {
     "data": {
      "text/plain": [
       "array([[-0.0201407 , -0.07188569,  0.96036209,  0.50390318],\n",
       "       [-0.08791224, -0.13965724,  0.        ,  0.        ],\n",
       "       [ 0.79964181,  0.        ,  1.8607074 ,  1.40424849],\n",
       "       [ 0.64260322,  0.        ,  1.70366881,  1.2472099 ]])"
      ]
     },
     "execution_count": 12,
     "metadata": {},
     "output_type": "execute_result"
    }
   ],
   "source": [
    "E = np.zeros(A.shape)\n",
    "E[connection[0], connection[1]] = e[0]\n",
    "E"
   ]
  },
  {
   "cell_type": "code",
   "execution_count": 13,
   "metadata": {},
   "outputs": [
    {
     "data": {
      "text/plain": [
       "array([[0.15862414, 0.24584279, 0.19034964, 0.13936964],\n",
       "       [0.14823013, 0.22973368, 0.07285714, 0.08420266],\n",
       "       [0.36007777, 0.26416607, 0.46834625, 0.34291239],\n",
       "       [0.30774805, 0.26416607, 0.400282  , 0.2930773 ]])"
      ]
     },
     "execution_count": 13,
     "metadata": {},
     "output_type": "execute_result"
    }
   ],
   "source": [
    "def softmax(x, axis):\n",
    "    return np.exp(x) / np.sum(np.exp(x), axis=axis)\n",
    "\n",
    "W_alpha = softmax(E, axis=1)\n",
    "W_alpha"
   ]
  },
  {
   "cell_type": "code",
   "execution_count": 14,
   "metadata": {},
   "outputs": [],
   "source": [
    "H = A.T @ W_alpha @ X @ W.T"
   ]
  },
  {
   "cell_type": "code",
   "execution_count": 15,
   "metadata": {},
   "outputs": [
    {
     "data": {
      "text/plain": [
       "array([[-0.10961702,  1.89622018],\n",
       "       [ 0.19504481,  0.59326539],\n",
       "       [-0.25615163,  1.65534088],\n",
       "       [-0.25615163,  1.65534088]])"
      ]
     },
     "execution_count": 15,
     "metadata": {},
     "output_type": "execute_result"
    }
   ],
   "source": [
    "H"
   ]
  },
  {
   "cell_type": "code",
   "execution_count": null,
   "metadata": {},
   "outputs": [],
   "source": []
  }
 ],
 "metadata": {
  "kernelspec": {
   "display_name": "Python 3",
   "language": "python",
   "name": "python3"
  },
  "language_info": {
   "codemirror_mode": {
    "name": "ipython",
    "version": 3
   },
   "file_extension": ".py",
   "mimetype": "text/x-python",
   "name": "python",
   "nbconvert_exporter": "python",
   "pygments_lexer": "ipython3",
   "version": "3.8.10"
  }
 },
 "nbformat": 4,
 "nbformat_minor": 2
}
